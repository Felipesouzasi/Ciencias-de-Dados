{
 "cells": [
  {
   "cell_type": "markdown",
   "metadata": {},
   "source": [
    "## Atividade C111"
   ]
  },
  {
   "cell_type": "markdown",
   "metadata": {},
   "source": [
    "Configurações iniciais"
   ]
  },
  {
   "cell_type": "code",
   "execution_count": 1,
   "metadata": {},
   "outputs": [
    {
     "name": "stdout",
     "output_type": "stream",
     "text": [
      "Colunas: ['\\ufeffCountry' 'Region' 'Population' 'Area (sq. mi.)'\n",
      " 'Pop. Density (per sq. mi.)' 'Coastline (coast/area ratio)'\n",
      " 'Net migration' 'Infant mortality (per 1000 births)' 'GDP ($ per capita)'\n",
      " 'Literacy (%)' 'Phones (per 1000)' 'Arable (%)' 'Crops (%)' 'Other (%)'\n",
      " 'Climate' 'Birthrate' 'Deathrate' 'Agriculture' 'Industry' 'Service']\n",
      "Primeira linha: ['Afghanistan ' 'ASIA (EX. NEAR EAST)         ' '31056997' '647500' '48.0'\n",
      " '0.00' '23.06' '163.07' '700' '36.0' '3.2' '12.13' '0.22' '87.65' '1'\n",
      " '46.6' '20.34' '0.38' '0.24' '0.38']\n"
     ]
    }
   ],
   "source": [
    "import numpy as np\n",
    "\n",
    "dataset = np.loadtxt('paises.csv', delimiter=';', dtype=str, encoding='utf-8')\n",
    "\n",
    "dataset[0, :] = np.char.strip(dataset[0, :]) \n",
    "\n",
    "print(\"Colunas:\", dataset[0, :])\n",
    "print(\"Primeira linha:\", dataset[1, :])\n",
    "\n",
    "data = dataset[1:, :]"
   ]
  },
  {
   "cell_type": "markdown",
   "metadata": {},
   "source": [
    "Q1"
   ]
  },
  {
   "cell_type": "code",
   "execution_count": 2,
   "metadata": {},
   "outputs": [
    {
     "name": "stdout",
     "output_type": "stream",
     "text": [
      "[['Afghanistan ' 'ASIA (EX. NEAR EAST)         ' '31056997' '48.0']\n",
      " ['Albania ' 'EASTERN EUROPE                     ' '3581655' '124.6']\n",
      " ['Algeria ' 'NORTHERN AFRICA                    ' '32930091' '13.8']\n",
      " ['American Samoa ' 'OCEANIA                            ' '57794' '290.4']\n",
      " ['Andorra ' 'WESTERN EUROPE                     ' '71201' '152.1']\n",
      " ['Angola ' 'SUB-SAHARAN AFRICA                 ' '12127071' '9.7']\n",
      " ['Anguilla ' 'LATIN AMER. & CARIB    ' '13477' '132.1']\n",
      " ['Antigua & Barbuda ' 'LATIN AMER. & CARIB    ' '69108' '156.0']\n",
      " ['Argentina ' 'LATIN AMER. & CARIB    ' '39921833' '14.4']\n",
      " ['Armenia ' 'C.W. OF IND. STATES ' '2976372' '99.9']\n",
      " ['Aruba ' 'LATIN AMER. & CARIB    ' '71891' '372.5']\n",
      " ['Australia ' 'OCEANIA                            ' '20264082' '2.6']\n",
      " ['Austria ' 'WESTERN EUROPE                     ' '8192880' '97.7']\n",
      " ['Azerbaijan ' 'C.W. OF IND. STATES ' '7961619' '91.9']\n",
      " ['Bahamas, The ' 'LATIN AMER. & CARIB    ' '303770' '21.8']\n",
      " ['Bahrain ' 'NEAR EAST                          ' '698585' '1050.5']\n",
      " ['Bangladesh ' 'ASIA (EX. NEAR EAST)         ' '147365352' '1023.4']\n",
      " ['Barbados ' 'LATIN AMER. & CARIB    ' '279912' '649.5']\n",
      " ['Belarus ' 'C.W. OF IND. STATES ' '10293011' '49.6']\n",
      " ['Belgium ' 'WESTERN EUROPE                     ' '10379067' '340.0']\n",
      " ['Belize ' 'LATIN AMER. & CARIB    ' '287730' '12.5']\n",
      " ['Benin ' 'SUB-SAHARAN AFRICA                 ' '7862944' '69.8']\n",
      " ['Bermuda ' 'NORTHERN AMERICA                   ' '65773' '1241.0']\n",
      " ['Bhutan ' 'ASIA (EX. NEAR EAST)         ' '2279723' '48.5']\n",
      " ['Bolivia ' 'LATIN AMER. & CARIB    ' '8989046' '8.2']\n",
      " ['Bosnia & Herzegovina ' 'EASTERN EUROPE                     ' '4498976'\n",
      "  '88.0']\n",
      " ['Botswana ' 'SUB-SAHARAN AFRICA                 ' '1639833' '2.7']\n",
      " ['Brazil ' 'LATIN AMER. & CARIB    ' '188078227' '22.1']\n",
      " ['British Virgin Is. ' 'LATIN AMER. & CARIB    ' '23098' '151.0']\n",
      " ['Brunei ' 'ASIA (EX. NEAR EAST)         ' '379444' '65.8']\n",
      " ['Bulgaria ' 'EASTERN EUROPE                     ' '7385367' '66.6']\n",
      " ['Burkina Faso ' 'SUB-SAHARAN AFRICA                 ' '13902972' '50.7']\n",
      " ['Burma ' 'ASIA (EX. NEAR EAST)         ' '47382633' '69.8']\n",
      " ['Burundi ' 'SUB-SAHARAN AFRICA                 ' '8090068' '290.7']\n",
      " ['Cambodia ' 'ASIA (EX. NEAR EAST)         ' '13881427' '76.7']\n",
      " ['Cameroon ' 'SUB-SAHARAN AFRICA                 ' '17340702' '36.5']\n",
      " ['Canada ' 'NORTHERN AMERICA                   ' '33098932' '3.3']\n",
      " ['Cape Verde ' 'SUB-SAHARAN AFRICA                 ' '420979' '104.4']\n",
      " ['Cayman Islands ' 'LATIN AMER. & CARIB    ' '45436' '173.4']\n",
      " ['Central African Rep. ' 'SUB-SAHARAN AFRICA                 ' '4303356'\n",
      "  '6.9']\n",
      " ['Chad ' 'SUB-SAHARAN AFRICA                 ' '9944201' '7.7']\n",
      " ['Chile ' 'LATIN AMER. & CARIB    ' '16134219' '21.3']\n",
      " ['China ' 'ASIA (EX. NEAR EAST)         ' '1313973713' '136.9']\n",
      " ['Colombia ' 'LATIN AMER. & CARIB    ' '43593035' '38.3']\n",
      " ['Comoros ' 'SUB-SAHARAN AFRICA                 ' '690948' '318.4']\n",
      " ['Congo, Dem. Rep. ' 'SUB-SAHARAN AFRICA                 ' '62660551'\n",
      "  '26.7']\n",
      " ['Congo, Repub. of the ' 'SUB-SAHARAN AFRICA                 ' '3702314'\n",
      "  '10.8']\n",
      " ['Cook Islands ' 'OCEANIA                            ' '21388' '89.1']\n",
      " ['Costa Rica ' 'LATIN AMER. & CARIB    ' '4075261' '79.8']\n",
      " [\"Cote d'Ivoire \" 'SUB-SAHARAN AFRICA                 ' '17654843'\n",
      "  '54.8']\n",
      " ['Croatia ' 'EASTERN EUROPE                     ' '4494749' '79.5']\n",
      " ['Cuba ' 'LATIN AMER. & CARIB    ' '11382820' '102.7']\n",
      " ['Cyprus ' 'NEAR EAST                          ' '784301' '84.8']\n",
      " ['Czech Republic ' 'EASTERN EUROPE                     ' '10235455'\n",
      "  '129.8']\n",
      " ['Denmark ' 'WESTERN EUROPE                     ' '5450661' '126.5']\n",
      " ['Djibouti ' 'SUB-SAHARAN AFRICA                 ' '486530' '21.2']\n",
      " ['Dominica ' 'LATIN AMER. & CARIB    ' '68910' '91.4']\n",
      " ['Dominican Republic ' 'LATIN AMER. & CARIB    ' '9183984' '188.5']\n",
      " ['East Timor ' 'ASIA (EX. NEAR EAST)         ' '1062777' '70.8']\n",
      " ['Ecuador ' 'LATIN AMER. & CARIB    ' '13547510' '47.8']\n",
      " ['Egypt ' 'NORTHERN AFRICA                    ' '78887007' '78.8']\n",
      " ['El Salvador ' 'LATIN AMER. & CARIB    ' '6822378' '324.3']\n",
      " ['Equatorial Guinea ' 'SUB-SAHARAN AFRICA                 ' '540109'\n",
      "  '19.3']\n",
      " ['Eritrea ' 'SUB-SAHARAN AFRICA                 ' '4786994' '39.5']\n",
      " ['Estonia ' 'BALTICS                            ' '1324333' '29.3']\n",
      " ['Ethiopia ' 'SUB-SAHARAN AFRICA                 ' '74777981' '66.3']\n",
      " ['Faroe Islands ' 'WESTERN EUROPE                     ' '47246' '33.8']\n",
      " ['Fiji ' 'OCEANIA                            ' '905949' '49.6']\n",
      " ['Finland ' 'WESTERN EUROPE                     ' '5231372' '15.5']\n",
      " ['France ' 'WESTERN EUROPE                     ' '60876136' '111.3']\n",
      " ['French Guiana ' 'LATIN AMER. & CARIB    ' '199509' '2.2']\n",
      " ['French Polynesia ' 'OCEANIA                            ' '274578'\n",
      "  '65.9']\n",
      " ['Gabon ' 'SUB-SAHARAN AFRICA                 ' '1424906' '5.3']\n",
      " ['Gambia, The ' 'SUB-SAHARAN AFRICA                 ' '1641564' '145.3']\n",
      " ['Gaza Strip ' 'NEAR EAST                          ' '1428757' '3968.8']\n",
      " ['Georgia ' 'C.W. OF IND. STATES ' '4661473' '66.9']\n",
      " ['Germany ' 'WESTERN EUROPE                     ' '82422299' '230.9']\n",
      " ['Ghana ' 'SUB-SAHARAN AFRICA                 ' '22409572' '93.6']\n",
      " ['Gibraltar ' 'WESTERN EUROPE                     ' '27928' '3989.7']\n",
      " ['Greece ' 'WESTERN EUROPE                     ' '10688058' '81.0']\n",
      " ['Greenland ' 'NORTHERN AMERICA                   ' '56361' '0.0']\n",
      " ['Grenada ' 'LATIN AMER. & CARIB    ' '89703' '260.8']\n",
      " ['Guadeloupe ' 'LATIN AMER. & CARIB    ' '452776' '254.4']\n",
      " ['Guam ' 'OCEANIA                            ' '171019' '316.1']\n",
      " ['Guatemala ' 'LATIN AMER. & CARIB    ' '12293545' '112.9']\n",
      " ['Guernsey ' 'WESTERN EUROPE                     ' '65409' '838.6']\n",
      " ['Guinea ' 'SUB-SAHARAN AFRICA                 ' '9690222' '39.4']\n",
      " ['Guinea-Bissau ' 'SUB-SAHARAN AFRICA                 ' '1442029' '39.9']\n",
      " ['Guyana ' 'LATIN AMER. & CARIB    ' '767245' '3.6']\n",
      " ['Haiti ' 'LATIN AMER. & CARIB    ' '8308504' '299.4']\n",
      " ['Honduras ' 'LATIN AMER. & CARIB    ' '7326496' '65.4']\n",
      " ['Hong Kong ' 'ASIA (EX. NEAR EAST)         ' '6940432' '6355.7']\n",
      " ['Hungary ' 'EASTERN EUROPE                     ' '9981334' '107.3']\n",
      " ['Iceland ' 'WESTERN EUROPE                     ' '299388' '2.9']\n",
      " ['India ' 'ASIA (EX. NEAR EAST)         ' '1095351995' '333.2']\n",
      " ['Indonesia ' 'ASIA (EX. NEAR EAST)         ' '245452739' '127.9']\n",
      " ['Iran ' 'ASIA (EX. NEAR EAST)         ' '68688433' '41.7']\n",
      " ['Iraq ' 'NEAR EAST                          ' '26783383' '61.3']\n",
      " ['Ireland ' 'WESTERN EUROPE                     ' '4062235' '57.8']\n",
      " ['Isle of Man ' 'WESTERN EUROPE                     ' '75441' '131.9']\n",
      " ['Israel ' 'NEAR EAST                          ' '6352117' '305.8']\n",
      " ['Italy ' 'WESTERN EUROPE                     ' '58133509' '193.0']\n",
      " ['Jamaica ' 'LATIN AMER. & CARIB    ' '2758124' '250.9']\n",
      " ['Japan ' 'ASIA (EX. NEAR EAST)         ' '127463611' '337.4']\n",
      " ['Jersey ' 'WESTERN EUROPE                     ' '91084' '785.2']\n",
      " ['Jordan ' 'NEAR EAST                          ' '5906760' '64.0']\n",
      " ['Kazakhstan ' 'C.W. OF IND. STATES ' '15233244' '5.6']\n",
      " ['Kenya ' 'SUB-SAHARAN AFRICA                 ' '34707817' '59.6']\n",
      " ['Kiribati ' 'OCEANIA                            ' '105432' '130.0']\n",
      " ['Korea, North ' 'ASIA (EX. NEAR EAST)         ' '23113019' '191.8']\n",
      " ['Korea, South ' 'ASIA (EX. NEAR EAST)         ' '48846823' '496.0']\n",
      " ['Kuwait ' 'NEAR EAST                          ' '2418393' '135.7']\n",
      " ['Kyrgyzstan ' 'C.W. OF IND. STATES ' '5213898' '26.3']\n",
      " ['Laos ' 'ASIA (EX. NEAR EAST)         ' '6368481' '26.9']\n",
      " ['Latvia ' 'BALTICS                            ' '2274735' '35.2']\n",
      " ['Lebanon ' 'NEAR EAST                          ' '3874050' '372.5']\n",
      " ['Lesotho ' 'SUB-SAHARAN AFRICA                 ' '2022331' '66.6']\n",
      " ['Liberia ' 'SUB-SAHARAN AFRICA                 ' '3042004' '27.3']\n",
      " ['Libya ' 'NORTHERN AFRICA                    ' '5900754' '3.4']\n",
      " ['Liechtenstein ' 'WESTERN EUROPE                     ' '33987' '212.4']\n",
      " ['Lithuania ' 'BALTICS                            ' '3585906' '55.0']\n",
      " ['Luxembourg ' 'WESTERN EUROPE                     ' '474413' '183.5']\n",
      " ['Macau ' 'ASIA (EX. NEAR EAST)         ' '453125' '16183.0']\n",
      " ['Macedonia ' 'EASTERN EUROPE                     ' '2050554' '80.9']\n",
      " ['Madagascar ' 'SUB-SAHARAN AFRICA                 ' '18595469' '31.7']\n",
      " ['Malawi ' 'SUB-SAHARAN AFRICA                 ' '13013926' '109.8']\n",
      " ['Malaysia ' 'ASIA (EX. NEAR EAST)         ' '24385858' '74.0']\n",
      " ['Maldives ' 'ASIA (EX. NEAR EAST)         ' '359008' '1196.7']\n",
      " ['Mali ' 'SUB-SAHARAN AFRICA                 ' '11716829' '9.5']\n",
      " ['Malta ' 'WESTERN EUROPE                     ' '400214' '1266.5']\n",
      " ['Marshall Islands ' 'OCEANIA                            ' '60422' '5.1']\n",
      " ['Martinique ' 'LATIN AMER. & CARIB    ' '436131' '396.5']\n",
      " ['Mauritania ' 'SUB-SAHARAN AFRICA                 ' '3177388' '3.1']\n",
      " ['Mauritius ' 'SUB-SAHARAN AFRICA                 ' '1240827' '608.3']\n",
      " ['Mayotte ' 'SUB-SAHARAN AFRICA                 ' '201234' '538.1']\n",
      " ['Mexico ' 'LATIN AMER. & CARIB    ' '107449525' '54.5']\n",
      " ['Micronesia, Fed. St. ' 'OCEANIA                            ' '108004'\n",
      "  '153.9']\n",
      " ['Moldova ' 'C.W. OF IND. STATES ' '4466706' '132.0']\n",
      " ['Monaco ' 'WESTERN EUROPE                     ' '32543' '16271.5']\n",
      " ['Mongolia ' 'ASIA (EX. NEAR EAST)         ' '2832224' '1.8']\n",
      " ['Montserrat ' 'LATIN AMER. & CARIB    ' '9439' '92.5']\n",
      " ['Morocco ' 'NORTHERN AFRICA                    ' '33241259' '74.4']\n",
      " ['Mozambique ' 'SUB-SAHARAN AFRICA                 ' '19686505' '24.6']\n",
      " ['Namibia ' 'SUB-SAHARAN AFRICA                 ' '2044147' '2.5']\n",
      " ['Nauru ' 'OCEANIA                            ' '13287' '632.7']\n",
      " ['Nepal ' 'ASIA (EX. NEAR EAST)         ' '28287147' '192.2']\n",
      " ['Netherlands ' 'WESTERN EUROPE                     ' '16491461' '397.1']\n",
      " ['Netherlands Antilles ' 'LATIN AMER. & CARIB    ' '221736' '231.0']\n",
      " ['New Caledonia ' 'OCEANIA                            ' '219246' '11.5']\n",
      " ['New Zealand ' 'OCEANIA                            ' '4076140' '15.2']\n",
      " ['Nicaragua ' 'LATIN AMER. & CARIB    ' '5570129' '43.0']\n",
      " ['Niger ' 'SUB-SAHARAN AFRICA                 ' '12525094' '9.9']\n",
      " ['Nigeria ' 'SUB-SAHARAN AFRICA                 ' '131859731' '142.7']\n",
      " ['N. Mariana Islands ' 'OCEANIA                            ' '82459'\n",
      "  '172.9']\n",
      " ['Norway ' 'WESTERN EUROPE                     ' '4610820' '14.2']\n",
      " ['Oman ' 'NEAR EAST                          ' '3102229' '14.6']\n",
      " ['Pakistan ' 'ASIA (EX. NEAR EAST)         ' '165803560' '206.2']\n",
      " ['Palau ' 'OCEANIA                            ' '20579' '44.9']\n",
      " ['Panama ' 'LATIN AMER. & CARIB    ' '3191319' '40.8']\n",
      " ['Papua New Guinea ' 'OCEANIA                            ' '5670544'\n",
      "  '12.3']\n",
      " ['Paraguay ' 'LATIN AMER. & CARIB    ' '6506464' '16.0']\n",
      " ['Peru ' 'LATIN AMER. & CARIB    ' '28302603' '22.0']\n",
      " ['Philippines ' 'ASIA (EX. NEAR EAST)         ' '89468677' '298.2']\n",
      " ['Poland ' 'EASTERN EUROPE                     ' '38536869' '123.3']\n",
      " ['Portugal ' 'WESTERN EUROPE                     ' '10605870' '114.8']\n",
      " ['Puerto Rico ' 'LATIN AMER. & CARIB    ' '3927188' '284.8']\n",
      " ['Qatar ' 'NEAR EAST                          ' '885359' '77.4']\n",
      " ['Reunion ' 'SUB-SAHARAN AFRICA                 ' '787584' '312.9']\n",
      " ['Romania ' 'EASTERN EUROPE                     ' '22303552' '93.9']\n",
      " ['Russia ' 'C.W. OF IND. STATES ' '142893540' '8.4']\n",
      " ['Rwanda ' 'SUB-SAHARAN AFRICA                 ' '8648248' '328.4']\n",
      " ['Saint Helena ' 'SUB-SAHARAN AFRICA                 ' '7502' '18.2']\n",
      " ['Saint Kitts & Nevis ' 'LATIN AMER. & CARIB    ' '39129' '149.9']\n",
      " ['Saint Lucia ' 'LATIN AMER. & CARIB    ' '168458' '273.5']\n",
      " ['St Pierre & Miquelon ' 'NORTHERN AMERICA                   ' '7026'\n",
      "  '29.0']\n",
      " ['Saint Vincent and the Grenadines ' 'LATIN AMER. & CARIB    ' '117848'\n",
      "  '303.0']\n",
      " ['Samoa ' 'OCEANIA                            ' '176908' '60.1']\n",
      " ['San Marino ' 'WESTERN EUROPE                     ' '29251' '479.5']\n",
      " ['Sao Tome & Principe ' 'SUB-SAHARAN AFRICA                 ' '193413'\n",
      "  '193.2']\n",
      " ['Saudi Arabia ' 'NEAR EAST                          ' '27019731' '13.8']\n",
      " ['Senegal ' 'SUB-SAHARAN AFRICA                 ' '11987121' '61.1']\n",
      " ['Serbia ' 'EASTERN EUROPE                     ' '9396411' '106.3']\n",
      " ['Seychelles ' 'SUB-SAHARAN AFRICA                 ' '81541' '179.2']\n",
      " ['Sierra Leone ' 'SUB-SAHARAN AFRICA                 ' '6005250' '83.7']\n",
      " ['Singapore ' 'ASIA (EX. NEAR EAST)         ' '4492150' '6482.2']\n",
      " ['Slovakia ' 'EASTERN EUROPE                     ' '5439448' '111.4']\n",
      " ['Slovenia ' 'EASTERN EUROPE                     ' '2010347' '99.2']\n",
      " ['Solomon Islands ' 'OCEANIA                            ' '552438'\n",
      "  '19.4']\n",
      " ['Somalia ' 'SUB-SAHARAN AFRICA                 ' '8863338' '13.9']\n",
      " ['South Africa ' 'SUB-SAHARAN AFRICA                 ' '44187637' '36.2']\n",
      " ['Spain ' 'WESTERN EUROPE                     ' '40397842' '80.0']\n",
      " ['Sri Lanka ' 'ASIA (EX. NEAR EAST)         ' '20222240' '308.2']\n",
      " ['Sudan ' 'SUB-SAHARAN AFRICA                 ' '41236378' '16.5']\n",
      " ['Suriname ' 'LATIN AMER. & CARIB    ' '439117' '2.7']\n",
      " ['Swaziland ' 'SUB-SAHARAN AFRICA                 ' '1136334' '65.5']\n",
      " ['Sweden ' 'WESTERN EUROPE                     ' '9016596' '20.0']\n",
      " ['Switzerland ' 'WESTERN EUROPE                     ' '7523934' '182.2']\n",
      " ['Syria ' 'NEAR EAST                          ' '18881361' '102.0']\n",
      " ['Taiwan ' 'ASIA (EX. NEAR EAST)         ' '23036087' '640.3']\n",
      " ['Tajikistan ' 'C.W. OF IND. STATES ' '7320815' '51.2']\n",
      " ['Tanzania ' 'SUB-SAHARAN AFRICA                 ' '37445392' '39.6']\n",
      " ['Thailand ' 'ASIA (EX. NEAR EAST)         ' '64631595' '125.7']\n",
      " ['Togo ' 'SUB-SAHARAN AFRICA                 ' '5548702' '97.7']\n",
      " ['Tonga ' 'OCEANIA                            ' '114689' '153.3']\n",
      " ['Trinidad & Tobago ' 'LATIN AMER. & CARIB    ' '1065842' '207.9']\n",
      " ['Tunisia ' 'NORTHERN AFRICA                    ' '10175014' '62.2']\n",
      " ['Turkey ' 'NEAR EAST                          ' '70413958' '90.2']\n",
      " ['Turkmenistan ' 'C.W. OF IND. STATES ' '5042920' '10.3']\n",
      " ['Turks & Caicos Is ' 'LATIN AMER. & CARIB    ' '21152' '49.2']\n",
      " ['Tuvalu ' 'OCEANIA                            ' '11810' '454.2']\n",
      " ['Uganda ' 'SUB-SAHARAN AFRICA                 ' '28195754' '119.5']\n",
      " ['Ukraine ' 'C.W. OF IND. STATES ' '46710816' '77.4']\n",
      " ['United Arab Emirates ' 'NEAR EAST                          ' '2602713'\n",
      "  '31.4']\n",
      " ['United Kingdom ' 'WESTERN EUROPE                     ' '60609153'\n",
      "  '247.6']\n",
      " ['United States ' 'NORTHERN AMERICA                   ' '298444215'\n",
      "  '31.0']\n",
      " ['Uruguay ' 'LATIN AMER. & CARIB    ' '3431932' '19.5']\n",
      " ['Uzbekistan ' 'C.W. OF IND. STATES ' '27307134' '61.0']\n",
      " ['Vanuatu ' 'OCEANIA                            ' '208869' '17.1']\n",
      " ['Venezuela ' 'LATIN AMER. & CARIB    ' '25730435' '28.2']\n",
      " ['Vietnam ' 'ASIA (EX. NEAR EAST)         ' '84402966' '256.1']\n",
      " ['Virgin Islands ' 'LATIN AMER. & CARIB    ' '108605' '56.9']\n",
      " ['Wallis and Futuna ' 'OCEANIA                            ' '16025'\n",
      "  '58.5']\n",
      " ['West Bank ' 'NEAR EAST                          ' '2460492' '419.9']\n",
      " ['Western Sahara ' 'NORTHERN AFRICA                    ' '273008' '1.0']\n",
      " ['Yemen ' 'NEAR EAST                          ' '21456188' '40.6']\n",
      " ['Zambia ' 'SUB-SAHARAN AFRICA                 ' '11502010' '15.3']\n",
      " ['Zimbabwe ' 'SUB-SAHARAN AFRICA                 ' '12236805' '31.3']]\n"
     ]
    }
   ],
   "source": [
    "#Faça um slicing no dataset para mostrar apenas o País (Country), Região (Region), População (Population) e Area (Area (sq. mi.)) dos países contidos nele;\n",
    "print(data[:, [0, 1, 2, 4]])\n"
   ]
  },
  {
   "cell_type": "markdown",
   "metadata": {},
   "source": [
    "Q2"
   ]
  },
  {
   "cell_type": "code",
   "execution_count": 3,
   "metadata": {},
   "outputs": [
    {
     "name": "stdout",
     "output_type": "stream",
     "text": [
      "Regiões: ['ASIA (EX. NEAR EAST)         ' 'BALTICS                            '\n",
      " 'C.W. OF IND. STATES ' 'EASTERN EUROPE                     '\n",
      " 'LATIN AMER. & CARIB    ' 'NEAR EAST                          '\n",
      " 'NORTHERN AFRICA                    '\n",
      " 'NORTHERN AMERICA                   '\n",
      " 'OCEANIA                            '\n",
      " 'SUB-SAHARAN AFRICA                 '\n",
      " 'WESTERN EUROPE                     ']\n"
     ]
    }
   ],
   "source": [
    "# Conte e em seguida mostre quais são as diferentes Regiões do planeta segundo este dataset;\n",
    "regioes = np.unique(data[:, 1])\n",
    "print(\"Regiões:\", regioes)\n"
   ]
  },
  {
   "cell_type": "markdown",
   "metadata": {},
   "source": [
    "Q3"
   ]
  },
  {
   "cell_type": "code",
   "execution_count": 4,
   "metadata": {},
   "outputs": [
    {
     "name": "stdout",
     "output_type": "stream",
     "text": [
      "Taxa média de alfabetização: 35.03770925110132\n"
     ]
    }
   ],
   "source": [
    "# Mostre qual a taxa média de alfabetização (Literacy (%)) do planeta segundo este dataset;\n",
    "taxa_media = np.mean(data[:, 7].astype(float))\n",
    "print(\"Taxa média de alfabetização:\", taxa_media)"
   ]
  },
  {
   "cell_type": "markdown",
   "metadata": {},
   "source": [
    "Q4"
   ]
  },
  {
   "cell_type": "code",
   "execution_count": 10,
   "metadata": {},
   "outputs": [
    {
     "name": "stdout",
     "output_type": "stream",
     "text": [
      "Numero de países da América do Norte: 1\n"
     ]
    }
   ],
   "source": [
    "northern_america_countries = np.sum(np.char.find(regioes, 'NORTHERN AMERICA') != -1)\n",
    "print(f\"Numero de países da América do Norte: {northern_america_countries}\")"
   ]
  },
  {
   "cell_type": "markdown",
   "metadata": {},
   "source": [
    "Q5"
   ]
  },
  {
   "cell_type": "code",
   "execution_count": 11,
   "metadata": {},
   "outputs": [
    {
     "name": "stdout",
     "output_type": "stream",
     "text": [
      "O país da América do Sul e Caribe com a maior renda per capita é: Guyana\n"
     ]
    }
   ],
   "source": [
    "latin_america_carib = data[np.char.find(data[:, 1], 'LATIN AMER. & CARIB') != -1]\n",
    "\n",
    "gdp_per_capita = latin_america_carib[:, 9].astype(float)\n",
    "max_gdp_index = np.argmax(gdp_per_capita)\n",
    "country_with_max_gdp = latin_america_carib[max_gdp_index, 0].strip()\n",
    "\n",
    "print(f\"O país da América do Sul e Caribe com a maior renda per capita é: {country_with_max_gdp}\")"
   ]
  }
 ],
 "metadata": {
  "kernelspec": {
   "display_name": "Python 3",
   "language": "python",
   "name": "python3"
  },
  "language_info": {
   "codemirror_mode": {
    "name": "ipython",
    "version": 3
   },
   "file_extension": ".py",
   "mimetype": "text/x-python",
   "name": "python",
   "nbconvert_exporter": "python",
   "pygments_lexer": "ipython3",
   "version": "3.12.0"
  }
 },
 "nbformat": 4,
 "nbformat_minor": 2
}
