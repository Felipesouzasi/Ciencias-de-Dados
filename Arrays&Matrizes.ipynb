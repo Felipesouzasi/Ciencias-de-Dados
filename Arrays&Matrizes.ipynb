{
 "cells": [
  {
   "cell_type": "markdown",
   "metadata": {},
   "source": [
    "# Lista de Exercícios Arrays NumPy"
   ]
  },
  {
   "cell_type": "markdown",
   "metadata": {},
   "source": [
    "Exercício 1"
   ]
  },
  {
   "cell_type": "code",
   "execution_count": null,
   "metadata": {},
   "outputs": [
    {
     "name": "stdout",
     "output_type": "stream",
     "text": [
      "[1. 1. 1. 1. 1. 1. 1. 1.]\n",
      "[1 7 5 2 6 2 7 4]\n",
      "------------------\n",
      "[[2. 8.]\n",
      " [6. 3.]\n",
      " [7. 3.]\n",
      " [8. 5.]]\n"
     ]
    }
   ],
   "source": [
    "import numpy as np\n",
    "arr1 = np.ones(8) # Criando um array de 8 elementos com valor 1\n",
    "arr2 = np.random.randint(0, 9, 8) #Criando um array de 8 elementos com valores aleatórios entre 0 e 9\n",
    "print(arr1)\n",
    "print(arr2)\n",
    "\n",
    "arr3 = np.add(arr1, arr2) #Somanado os valores de arr1 e arr2\n",
    "print(\"------------------\")\n",
    "\n",
    "# Lógica para verificar se a soma dos elementos de arr3 é maior ou igual a 40\n",
    "# Se for, o array é redimensionado para 4x2. Se não, o array é redimensionado para 2x4\n",
    "if np.sum(arr3) >= 40:\n",
    "    arr3 = np.reshape(arr3, (4, 2))\n",
    "    print(arr3)\n",
    "else:\n",
    "    arr3 = np.reshape(arr3, (2, 4))\n",
    "    print(arr3)"
   ]
  },
  {
   "cell_type": "markdown",
   "metadata": {},
   "source": [
    "Exerccício 2"
   ]
  },
  {
   "cell_type": "code",
   "execution_count": 22,
   "metadata": {},
   "outputs": [
    {
     "name": "stdout",
     "output_type": "stream",
     "text": [
      "[ 0  2  4  6  8 10 12 14 16 18 20 22 24 26 28 30 32 34 36 38 40 42 44 46\n",
      " 48 50]\n",
      "[100  98  96  94  92  90  88  86  84  82  80  78  76  74  72  70  68  66\n",
      "  64  62  60  58  56  54  52]\n",
      "-------------------------------------------------------------------------\n",
      "[  0   2   4   6   8  10  12  14  16  18  20  22  24  26  28  30  32  34\n",
      "  36  38  40  42  44  46  48  50 100  98  96  94  92  90  88  86  84  82\n",
      "  80  78  76  74  72  70  68  66  64  62  60  58  56  54  52]\n"
     ]
    }
   ],
   "source": [
    "arr1 = np.arange(0, 51, 2)\n",
    "arr2 = np.arange(100, 50, -2)\n",
    "arr3 = np.concatenate((arr1, arr2))\n",
    "\n",
    "print(arr1)\n",
    "print(arr2)\n",
    "print(\"-------------------------------------------------------------------------\")\n",
    "print(arr3)"
   ]
  },
  {
   "cell_type": "markdown",
   "metadata": {},
   "source": [
    "Exercício 3"
   ]
  },
  {
   "cell_type": "code",
   "execution_count": 34,
   "metadata": {},
   "outputs": [
    {
     "name": "stdout",
     "output_type": "stream",
     "text": [
      "Selecione uma posição da matriz: \n",
      "Congralations! You beat the game! :)\n",
      "Confira onde estava o numero 1: \n",
      " [[1. 0.]\n",
      " [0. 0.]]\n"
     ]
    }
   ],
   "source": [
    "mtz = np.zeros((2, 2))\n",
    "#adicionando um umero 1 em alguma posiçao aleatoria da matriz\n",
    "mtz[np.random.randint(0, 2), np.random.randint(0, 2)] = 1\n",
    "#criando um mini campo minado\n",
    "print(\"Selecione uma posição da matriz: \")\n",
    "if mtz[int(input(\"Digite a linha: \"))][int(input(\"Digite a coluna: \"))] == 1:\n",
    "    print(\"Game over! :( Try again!\")\n",
    "else:\n",
    "    print(\"Congralations! You beat the game! :)\")\n",
    "\n",
    "print(\"Confira onde estava o numero 1: \\n\", mtz)"
   ]
  },
  {
   "cell_type": "markdown",
   "metadata": {},
   "source": [
    "Exercício 4"
   ]
  },
  {
   "cell_type": "code",
   "execution_count": 41,
   "metadata": {},
   "outputs": [
    {
     "name": "stdout",
     "output_type": "stream",
     "text": [
      "Numero de colunas:  3\n",
      "Numero de linhas:  3\n",
      "Pode se transformar em um array unidimensional impar\n"
     ]
    }
   ],
   "source": [
    "colunms = int(input(\"Digite o numero de colunas\"))\n",
    "lines = int(input(\"Digite o numero de linhas\"))\n",
    "\n",
    "mtz = np.random.randint(0, 9, (colunms, lines))\n",
    "\n",
    "# Como o exercício pediu pra eu tirar o número de linhas e colunas por meio de funções aprendidas durante a aula, vou utilizar a função shape\n",
    "print(\"Numero de colunas: \", mtz.shape[0])\n",
    "print(\"Numero de linhas: \", mtz.shape[1])\n",
    "\n",
    "aux = mtz.shape[0] * mtz.shape[1]\n",
    "\n",
    "if(aux % 2 == 0):\n",
    "    print(\"Pode se transformar em um array unidimensional par\")\n",
    "else:\n",
    "    print(\"Pode se transformar em um array unidimensional impar\")\n"
   ]
  },
  {
   "cell_type": "markdown",
   "metadata": {},
   "source": [
    "Exercício 5"
   ]
  },
  {
   "cell_type": "code",
   "execution_count": 39,
   "metadata": {},
   "outputs": [
    {
     "name": "stdout",
     "output_type": "stream",
     "text": [
      "[[10 37 16  1]\n",
      " [29 26 30 49]\n",
      " [30  9 10  1]\n",
      " [43 41 37 17]]\n",
      "A média de cada uma das colunas é: [28.   28.25 23.25 17.  ] e das linhas: [16.  33.5 12.5 34.5]\n",
      "O maior valor das médias das linhas é: 34.5 e o menor valor das médias das colunas é: 17.0\n",
      "A quantidade de aparição de cada um dos números é:  (array([ 1,  9, 10, 16, 17, 26, 29, 30, 37, 41, 43, 49], dtype=int32), array([2, 1, 2, 1, 1, 1, 1, 2, 2, 1, 1, 1]))\n",
      "Os números que apareceram 2 vezes são:  [ 1 10 30 37]\n"
     ]
    }
   ],
   "source": [
    "np.random.seed(10)\n",
    "mtz = np.random.randint(1, 50, (4, 4))\n",
    "\n",
    "sum_column = mtz.sum(axis=0)\n",
    "sum_line = mtz.sum(axis=1)\n",
    "\n",
    "print(mtz)\n",
    "print(f\"A média de cada uma das colunas é: {sum_column/4} e das linhas: {sum_line/4}\")\n",
    "print(f\"O maior valor das médias das linhas é: {np.max(sum_line/4)} e o menor valor das médias das colunas é: {np.min(sum_column/4)}\")\n",
    "print(\"A quantidade de aparição de cada um dos números é: \", np.unique(mtz, return_counts=True))\n",
    "print(\"Os números que apareceram 2 vezes são: \", np.unique(mtz, return_counts=True)[0][np.unique(mtz, return_counts=True)[1] == 2])\t\n"
   ]
  }
 ],
 "metadata": {
  "kernelspec": {
   "display_name": "Python 3",
   "language": "python",
   "name": "python3"
  },
  "language_info": {
   "codemirror_mode": {
    "name": "ipython",
    "version": 3
   },
   "file_extension": ".py",
   "mimetype": "text/x-python",
   "name": "python",
   "nbconvert_exporter": "python",
   "pygments_lexer": "ipython3",
   "version": "3.12.0"
  }
 },
 "nbformat": 4,
 "nbformat_minor": 2
}
