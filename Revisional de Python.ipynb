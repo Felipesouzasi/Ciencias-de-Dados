{
 "cells": [
  {
   "cell_type": "markdown",
   "metadata": {},
   "source": [
    "Lista de exercício fundamentais para revisão de Python"
   ]
  },
  {
   "cell_type": "markdown",
   "metadata": {},
   "source": [
    "Exercício 1"
   ]
  },
  {
   "cell_type": "code",
   "execution_count": null,
   "metadata": {},
   "outputs": [],
   "source": [
    "nomeCompleto = input(\"Entre com seu nome completo: \")\n",
    "print(nomeCompleto.upper())\n",
    "print(nomeCompleto.lower())\n",
    "\n",
    "qtdLetras = len(nomeCompleto.replace(\" \", \" \"))\n",
    "print(f\"O total de letras do meu nome é: {qtdLetras}\")\n",
    "\n",
    "nomeParte = nomeCompleto.split()\n",
    "nomeParte[-1] = \"do inatel\"\n",
    "nomeInatelino = \" \".join(nomeParte)\n",
    "print(nomeInatelino)"
   ]
  },
  {
   "cell_type": "markdown",
   "metadata": {},
   "source": [
    "Exercício 2 - Tabuada"
   ]
  },
  {
   "cell_type": "code",
   "execution_count": null,
   "metadata": {},
   "outputs": [],
   "source": [
    "numTabuada = int(input(\"Entre com o número no qual queira ver sua tabuada: \"))\n",
    "condParada = int(input(\"Qual intervalo você quer a tabuada? Ex: 10 \"))\n",
    "\n",
    "for i in range(1, condParada + 1):  # Começa do 1 e vai até condParada\n",
    "    print(f\"{numTabuada} x {i} = {numTabuada * i}\")"
   ]
  },
  {
   "cell_type": "markdown",
   "metadata": {},
   "source": [
    "Exercício 3"
   ]
  },
  {
   "cell_type": "code",
   "execution_count": null,
   "metadata": {},
   "outputs": [],
   "source": [
    "while True:\n",
    "    sexo = input(\"Entre com seu sexo: [M - Mulher | H - Homem]\")\n",
    "    if(sexo == 'M'):\n",
    "        print(\"Bem vinda!\")\n",
    "        break\n",
    "    elif (sexo == 'H'):\n",
    "        print(\"Bem vindo!\")\n",
    "        break\n",
    "    else:\n",
    "        print(\"Sexo inválido! Tente novamente! E lembre-se: M - Mulher | H - Homem\")"
   ]
  },
  {
   "cell_type": "markdown",
   "metadata": {},
   "source": [
    "Exercício 4"
   ]
  },
  {
   "cell_type": "code",
   "execution_count": null,
   "metadata": {},
   "outputs": [],
   "source": [
    "try: \n",
    "    distancia = int(input(\"Qual a distância(km) da sua viagem hoje? \"))\n",
    "\n",
    "    if(distancia < 200):\n",
    "        preco = distancia * 0.5\n",
    "    else:\n",
    "        preco = distancia * 0.45\n",
    "\n",
    "    print('O preço da sua passagem será de: R$', preco)\n",
    "\n",
    "except ValueError: print(\"Erro. Entrada inválida, por favor, digite um número!\")"
   ]
  },
  {
   "cell_type": "markdown",
   "metadata": {},
   "source": [
    "Exercício 5"
   ]
  },
  {
   "cell_type": "code",
   "execution_count": null,
   "metadata": {},
   "outputs": [],
   "source": [
    "\n",
    "import random\n",
    "randomNum = random.randint(1000, 9999)\n",
    "\n",
    "print(\"Número aleatório escolhido: \", randomNum)\n",
    "division = list(str(randomNum))\n",
    "print (division)\n",
    "print(\"Número da unidade: \", division[3])\n",
    "print(\"Número da dezena: \", division[2])\n",
    "print(\"Número da centena: \", division[1])\n",
    "print(\"Número da milhar: \", division[0])\n"
   ]
  },
  {
   "cell_type": "markdown",
   "metadata": {},
   "source": [
    "Exercício 6"
   ]
  },
  {
   "cell_type": "code",
   "execution_count": null,
   "metadata": {},
   "outputs": [],
   "source": [
    "from math import ceil, floor\n",
    "\n",
    "\n",
    "number = float(input(\"Entre com um número flutuante para essa operação: \"))\n",
    "\n",
    "print(f\"A raiz quadrada do número desejado: {number ** 0.5}\")\n",
    "print(f\"Função teto: {ceil(number)}\")\n",
    "print(f\"Função chão: {floor(number)}\")\n",
    "print(f\"A parte inteira é: {int(number//1)}\")"
   ]
  }
 ],
 "metadata": {
  "kernelspec": {
   "display_name": "Python 3",
   "language": "python",
   "name": "python3"
  },
  "language_info": {
   "codemirror_mode": {
    "name": "ipython",
    "version": 3
   },
   "file_extension": ".py",
   "mimetype": "text/x-python",
   "name": "python",
   "nbconvert_exporter": "python",
   "pygments_lexer": "ipython3",
   "version": "3.12.8"
  }
 },
 "nbformat": 4,
 "nbformat_minor": 2
}
