{
 "cells": [
  {
   "cell_type": "markdown",
   "metadata": {},
   "source": [
    "## First test "
   ]
  },
  {
   "cell_type": "markdown",
   "metadata": {},
   "source": [
    "Configurações iniciais"
   ]
  },
  {
   "cell_type": "code",
   "execution_count": null,
   "metadata": {},
   "outputs": [
    {
     "name": "stdout",
     "output_type": "stream",
     "text": [
      "Colunas: ['Post_ID' 'Platform' 'Hashtag' 'Content_Type' 'Region' 'Views' 'Likes'\n",
      " 'Shares' 'Comments' 'Engagement_Level']\n",
      "Primeira linha: ['Post_1' 'TikTok' 'Challenge' 'Video' 'UK' '4163464' '339431' '53135'\n",
      " '19346' 'High']\n"
     ]
    }
   ],
   "source": [
    "import numpy as np\n",
    "\n",
    "dataset = np.loadtxt('social_media.csv', delimiter=';', dtype=str, encoding='utf-8')\n",
    "\n",
    "dataset[0, :] = np.char.strip(dataset[0, :]) \n",
    "\n",
    "print(\"Colunas:\", dataset[0, :])\n",
    "print(\"Primeira linha:\", dataset[1, :])\n",
    "\n",
    "data = dataset[1:, :]"
   ]
  },
  {
   "cell_type": "markdown",
   "metadata": {},
   "source": [
    "Q1"
   ]
  },
  {
   "cell_type": "code",
   "execution_count": 78,
   "metadata": {},
   "outputs": [
    {
     "name": "stdout",
     "output_type": "stream",
     "text": [
      "Brasileiros que postaram:  641\n"
     ]
    }
   ],
   "source": [
    "index_region = np.where(dataset[0, :] == 'Region')[0][0]\n",
    "\n",
    "brazilians_post = np.sum(dataset[:, 4] == 'Brazil')\n",
    "\n",
    "print(\"Brasileiros que postaram: \", brazilians_post)"
   ]
  },
  {
   "cell_type": "markdown",
   "metadata": {},
   "source": [
    "Q2"
   ]
  },
  {
   "cell_type": "code",
   "execution_count": 82,
   "metadata": {},
   "outputs": [
    {
     "name": "stdout",
     "output_type": "stream",
     "text": [
      "Posts com a hashtag Education:  525\n",
      "Total de Hashtags:  5000\n",
      "Porcentagem de posts com a hashtag Education:  10.5\n"
     ]
    }
   ],
   "source": [
    "index_hashtag = np.where(dataset[0, :] == 'Hashtag')[0][0]\n",
    "\n",
    "education_count = np.sum(dataset[:, index_hashtag] == 'Education')\n",
    "print(\"Posts com a hashtag Education: \", education_count)\n",
    "\n",
    "total_hashtags = data.shape[0]\n",
    "print(\"Total de Hashtags: \", total_hashtags)\n",
    "\n",
    "eduaction_porcetage = (education_count / total_hashtags) * 100\n",
    "print(\"Porcentagem de posts com a hashtag Education: \", eduaction_porcetage)"
   ]
  },
  {
   "cell_type": "markdown",
   "metadata": {},
   "source": [
    "Q3"
   ]
  },
  {
   "cell_type": "code",
   "execution_count": 85,
   "metadata": {},
   "outputs": [
    {
     "name": "stdout",
     "output_type": "stream",
     "text": [
      "Média de views e likes dos posts do Instagram:  {'mean_views': 2404079.8778877887, 'mean_likes': 257118.21782178216}\n"
     ]
    }
   ],
   "source": [
    "instagram_data = dataset[dataset[:, 1] == 'Instagram']\n",
    "\n",
    "instagram_views = instagram_data[:, 5].astype(int)\n",
    "instagram_likes = instagram_data[:, 6].astype(int)\n",
    "\n",
    "instagram_mean_views = float(np.mean(instagram_views))\n",
    "instagram_mean_likes = float(np.mean(instagram_likes))\n",
    "\n",
    "instagram_dict = {'mean_views': instagram_mean_views, 'mean_likes': instagram_mean_likes}\n",
    "\n",
    "print(\"Média de views e likes dos posts do Instagram: \", instagram_dict)\n",
    "\n"
   ]
  },
  {
   "cell_type": "markdown",
   "metadata": {},
   "source": [
    "Q4"
   ]
  },
  {
   "cell_type": "code",
   "execution_count": 73,
   "metadata": {},
   "outputs": [
    {
     "name": "stdout",
     "output_type": "stream",
     "text": [
      "Plataforma com mais posts: YouTube (1324 posts)\n"
     ]
    }
   ],
   "source": [
    "platform_index = np.where(dataset[0, :] == 'Platform')[0][0]\n",
    "\n",
    "platforms, post_counts = np.unique(data[:, platform_index], return_counts=True)\n",
    "\n",
    "max_posts_index = np.argmax(post_counts)\n",
    "most_used_platform = platforms[max_posts_index]\n",
    "most_used_platform_count = post_counts[max_posts_index]\n",
    "\n",
    "print(f'Plataforma com mais posts: {most_used_platform} ({most_used_platform_count} posts)')\n"
   ]
  },
  {
   "cell_type": "markdown",
   "metadata": {},
   "source": [
    "Q5"
   ]
  },
  {
   "cell_type": "code",
   "execution_count": 72,
   "metadata": {},
   "outputs": [
    {
     "name": "stdout",
     "output_type": "stream",
     "text": [
      "Região de origem do post com mais likes: Germany\n"
     ]
    }
   ],
   "source": [
    "likes_index = np.where(dataset[0, :] == 'Likes')[0][0]\n",
    "region_index = np.where(dataset[0, :] == 'Region')[0][0]\n",
    "\n",
    "likes = data[:, likes_index].astype(int)\n",
    "\n",
    "max_likes_index = np.argmax(likes)\n",
    "#print(max_likes_index)\n",
    "\n",
    "region_with_most_liked_post = data[max_likes_index, region_index]\n",
    "\n",
    "print(f'Região de origem do post com mais likes: {region_with_most_liked_post}')"
   ]
  }
 ],
 "metadata": {
  "kernelspec": {
   "display_name": "Python 3",
   "language": "python",
   "name": "python3"
  },
  "language_info": {
   "codemirror_mode": {
    "name": "ipython",
    "version": 3
   },
   "file_extension": ".py",
   "mimetype": "text/x-python",
   "name": "python",
   "nbconvert_exporter": "python",
   "pygments_lexer": "ipython3",
   "version": "3.12.0"
  }
 },
 "nbformat": 4,
 "nbformat_minor": 2
}
