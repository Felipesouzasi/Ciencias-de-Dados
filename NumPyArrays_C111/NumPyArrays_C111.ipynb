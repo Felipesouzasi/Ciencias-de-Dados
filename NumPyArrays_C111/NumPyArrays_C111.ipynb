{
 "cells": [
  {
   "cell_type": "markdown",
   "metadata": {},
   "source": [
    "## Exercícios no final do arquivo 🚨"
   ]
  },
  {
   "cell_type": "markdown",
   "metadata": {},
   "source": [
    "Iniciando com numpy"
   ]
  },
  {
   "cell_type": "code",
   "execution_count": 25,
   "metadata": {},
   "outputs": [
    {
     "name": "stdout",
     "output_type": "stream",
     "text": [
      "[1 2 3 4 5]\n",
      "[[1 2 3]\n",
      " [4 5 6]\n",
      " [7 8 9]]\n"
     ]
    }
   ],
   "source": [
    "import numpy as np\n",
    "\n",
    "#NunPy Array Unidimensional\n",
    "arr = np.array([1, 2, 3, 4, 5])\n",
    "\n",
    "#NubPy array Multidimensional\n",
    "mtz = np.array([[1, 2, 3], [4, 5, 6], [7, 8, 9]])  \n",
    "\n",
    "print(arr)\n",
    "print(mtz) "
   ]
  },
  {
   "cell_type": "markdown",
   "metadata": {},
   "source": [
    "CRIANDO NUMPY ARRAYS COM MAIS FACILIDADE"
   ]
  },
  {
   "cell_type": "code",
   "execution_count": 3,
   "metadata": {},
   "outputs": [
    {
     "name": "stdout",
     "output_type": "stream",
     "text": [
      "[[1. 1. 1. 1. 1.]\n",
      " [1. 1. 1. 1. 1.]\n",
      " [1. 1. 1. 1. 1.]\n",
      " [1. 1. 1. 1. 1.]\n",
      " [1. 1. 1. 1. 1.]]\n",
      "[0 1 2 3 4 5 6 7 8 9]\n",
      "[10 12 14 16 18 20 22 24 26 28]\n"
     ]
    }
   ],
   "source": [
    "#Estruturando rapidamente uma matriz de 1's\n",
    "mtz = np.ones((5, 5))\n",
    "print(mtz)\n",
    "\n",
    "#arrange\n",
    "mtz = np.arange(10)\n",
    "print(mtz)\n",
    "mtz = np.arange(10, 30, 2)\n",
    "print(mtz)"
   ]
  },
  {
   "cell_type": "markdown",
   "metadata": {},
   "source": [
    "OPERAÇÕES COM NUMPY ARRAYS"
   ]
  },
  {
   "cell_type": "code",
   "execution_count": 4,
   "metadata": {},
   "outputs": [
    {
     "name": "stdout",
     "output_type": "stream",
     "text": [
      "1 4\n",
      "0 3\n",
      "2.5 10\n",
      "[ 6  8 10 12]\n",
      "[1 2 3 4 5 6 7 8]\n"
     ]
    }
   ],
   "source": [
    "arr1 = np.array([1,2,3,4])\n",
    "arr2 = np.array([5,6,7,8])\n",
    "\n",
    "print(arr1.min(), arr1.max())\n",
    "print(arr1.argmin(), arr1.argmax()) #Posição do menor e maior\n",
    "\n",
    "print(arr1.mean(), arr1.sum())\n",
    "\n",
    "#OPERAÇÕES ENTRE DOIS OU MAIS ARRAYS\n",
    "arr3 = arr1 + arr2\t\n",
    "print(arr3)\n",
    "\n",
    "#CONCATENANDO NUMPY ARRAYS\n",
    "arr3 = np.concatenate((arr1, arr2))\n",
    "print(arr3)"
   ]
  },
  {
   "cell_type": "markdown",
   "metadata": {},
   "source": [
    "RESHAPE DE NUMPY ARRAYS"
   ]
  },
  {
   "cell_type": "code",
   "execution_count": null,
   "metadata": {},
   "outputs": [
    {
     "name": "stdout",
     "output_type": "stream",
     "text": [
      "[[0 1 2]\n",
      " [3 4 5]\n",
      " [6 7 8]]\n",
      "(3, 3)\n",
      "2\n",
      "[ 9 12 15]\n",
      "[ 3 12 21]\n"
     ]
    }
   ],
   "source": [
    "mtz = np.arange(9).reshape(3,3)\n",
    "print(mtz)\n",
    "\n",
    "# print(mtz.size)\n",
    "# print(mtz.shape)\n",
    "# print(mtz.ndim)\n",
    "\n",
    "# OPERAÇÕES NAS LINHAS E COLUNAS DA MATRIZ\n",
    "print(mtz.sum(axis=0)) #Soma das colunas\n",
    "print(mtz.sum(axis=1)) #Soma das linhas\n"
   ]
  },
  {
   "cell_type": "markdown",
   "metadata": {},
   "source": [
    "BROADCASTING   (Multiplicar um escalar por um vetor)"
   ]
  },
  {
   "cell_type": "code",
   "execution_count": 8,
   "metadata": {},
   "outputs": [
    {
     "name": "stdout",
     "output_type": "stream",
     "text": [
      "[[0.  0.5 1. ]\n",
      " [1.5 2.  2.5]\n",
      " [3.  3.5 4. ]]\n"
     ]
    }
   ],
   "source": [
    "print(mtz/2)"
   ]
  },
  {
   "cell_type": "markdown",
   "metadata": {},
   "source": [
    "ELEMENTOS ALEATÓRIOS E ÚNICOS"
   ]
  },
  {
   "cell_type": "code",
   "execution_count": null,
   "metadata": {},
   "outputs": [
    {
     "name": "stdout",
     "output_type": "stream",
     "text": [
      "[29 24 20 21 29 20 21 28 29 20]\n",
      "[[18 16 14 13 10]\n",
      " [14 16 18 11 18]\n",
      " [14 11 13 16 15]\n",
      " [13 19 16 19 11]\n",
      " [19 14 12 16 17]]\n",
      "(array([20, 21, 24, 28, 29], dtype=int32), array([3, 2, 1, 1, 3]))\n"
     ]
    }
   ],
   "source": [
    "# GERANDO NUMEROS ALEATORIOS\n",
    "np.random.seed(10) #trabalhando com semente de dados (sempre será igual)\n",
    "arr = np.random.randint(20, 30, 10)\n",
    "arr1 = np.random.randint(10, 20, [5,5]) #Matriz 5x5 aleatoria\n",
    "print(arr)\n",
    "print(arr1)\n",
    "\n",
    "#Extraindo valores unicos de um array com unique\n",
    "print(np.unique(arr, return_counts=True)) #Retorna os valores unicos e a quantidade de vezes que eles aparecem"
   ]
  },
  {
   "cell_type": "markdown",
   "metadata": {},
   "source": [
    "SLICING DE NUMPY ARRAYS (BIDIMENSIONAIS)"
   ]
  },
  {
   "cell_type": "code",
   "execution_count": 4,
   "metadata": {},
   "outputs": [
    {
     "name": "stdout",
     "output_type": "stream",
     "text": [
      "[[1 2 3]\n",
      " [4 5 6]\n",
      " [7 8 9]]\n",
      "[7 8 9]\n",
      "[[4 5 6]\n",
      " [7 8 9]]\n",
      "[2 5 8]\n",
      "[[2 3]\n",
      " [5 6]\n",
      " [8 9]]\n"
     ]
    }
   ],
   "source": [
    "mtz = np.arange(1, 10, 1).reshape(3,3)\n",
    "print(mtz)\n",
    "\n",
    "# Slicing em uma unica linha\n",
    "print(mtz[2])\n",
    "\n",
    "# Slicing de multiplas linhas\n",
    "print(mtz[1:])\n",
    "\n",
    "# Slicing de uma coluna\n",
    "print(mtz[:, 1])\n",
    "\n",
    "# Slicing de multiplas colunas\n",
    "print(mtz[:, 1:])   "
   ]
  },
  {
   "cell_type": "markdown",
   "metadata": {},
   "source": [
    "CONDICIONAL"
   ]
  },
  {
   "cell_type": "code",
   "execution_count": 7,
   "metadata": {},
   "outputs": [
    {
     "name": "stdout",
     "output_type": "stream",
     "text": [
      "[[False False False]\n",
      " [False False  True]\n",
      " [ True  True  True]]\n",
      "[6 7 8 9]\n",
      "[[False  True False]\n",
      " [ True False  True]\n",
      " [False  True False]]\n",
      "[2 4 6 8]\n"
     ]
    }
   ],
   "source": [
    "print(mtz > 5)\n",
    "print(mtz[mtz > 5]) \n",
    "\n",
    "print(mtz % 2 == 0)\n",
    "print(mtz[mtz % 2 == 0])"
   ]
  },
  {
   "cell_type": "markdown",
   "metadata": {},
   "source": [
    "TRABALHANDO COM PADROES TEXTUAIS NO NUMPY"
   ]
  },
  {
   "cell_type": "code",
   "execution_count": null,
   "metadata": {},
   "outputs": [
    {
     "name": "stdout",
     "output_type": "stream",
     "text": [
      "['Goku' 'Gohan' 'Goten']\n",
      "['Vegeta' 'Gohan' 'Bulma']\n"
     ]
    }
   ],
   "source": [
    "arr = np.array(['Goku', 'Vegeta', 'Gohan', 'Bulma', 'Goten'])\n",
    "print(arr[np.char.find(arr, 'Go') >= 0])\n",
    "\n",
    "print(arr[np.char.find(arr, 'a') >= 0])"
   ]
  },
  {
   "cell_type": "markdown",
   "metadata": {},
   "source": [
    "IMPORTANDO ARQUIVOS EXTERNOS NO NUMPY"
   ]
  },
  {
   "cell_type": "code",
   "execution_count": null,
   "metadata": {},
   "outputs": [
    {
     "name": "stdout",
     "output_type": "stream",
     "text": [
      "Colunas: ['\\ufeffNum' 'Company Name' 'Location' 'Datum' 'Detail' 'Status Rocket'\n",
      " 'Cost' 'Status Mission']\n",
      "Primeira linha: ['0' 'SpaceX' 'LC-39A Kennedy Space Center Florida USA'\n",
      " 'Fri Aug 07 2020 05:12 UTC'\n",
      " 'Falcon 9 Block 5 | Starlink V1 L9 & BlackSky' 'StatusActive' '50.0 '\n",
      " 'Success']\n",
      "Porcentagem de missões bem-sucedidas: 89.71%\n",
      "Média dos custos das missões: 153.79\n",
      "Quantidade de missões realizadas pelos EUA: 0\n",
      "Missão mais cara realizada pela SpaceX: 90.00\n",
      "Quantidade de missões por empresa:\n",
      "AEB: 3\n",
      "AMBA: 8\n",
      "ASI: 9\n",
      "Arianespace: 279\n",
      "Arm??e de l'Air: 4\n",
      "Blue Origin: 12\n",
      "Boeing: 136\n",
      "CASC: 251\n",
      "CASIC: 5\n",
      "CECLES: 4\n",
      "CNES: 8\n",
      "Company Name: 1\n",
      "Douglas: 1\n",
      "EER: 1\n",
      "ESA: 13\n",
      "Eurockot: 13\n",
      "ExPace: 10\n",
      "Exos: 4\n",
      "General Dynamics: 251\n",
      "IAI: 11\n",
      "ILS: 46\n",
      "IRGC: 1\n",
      "ISA: 13\n",
      "ISAS: 30\n",
      "ISRO: 76\n",
      "JAXA: 7\n",
      "KARI: 3\n",
      "KCST: 5\n",
      "Khrunichev: 1\n",
      "Kosmotras: 22\n",
      "Land Launch: 7\n",
      "Landspace: 1\n",
      "Lockheed: 79\n",
      "MHI: 84\n",
      "MITT: 7\n",
      "Martin Marietta: 114\n",
      "NASA: 203\n",
      "Northrop: 83\n",
      "OKB-586: 2\n",
      "OneSpace: 1\n",
      "RAE: 2\n",
      "RVSN USSR: 1777\n",
      "Rocket Lab: 13\n",
      "Roscosmos: 55\n",
      "SRC: 3\n",
      "Sandia: 1\n",
      "Sea Launch: 36\n",
      "SpaceX: 100\n",
      "Starsem: 1\n",
      "ULA: 140\n",
      "US Air Force: 161\n",
      "US Navy: 17\n",
      "UT: 5\n",
      "VKS RF: 201\n",
      "Virgin Orbit: 1\n",
      "Yuzhmash: 2\n",
      "i-Space: 1\n"
     ]
    }
   ],
   "source": [
    "import numpy as np\n",
    "\n",
    "# Carregar o dataset, removendo espaços extras do delimitador\n",
    "dataset = np.loadtxt('space.csv', delimiter=';', dtype=str, encoding='utf-8')\n",
    "\n",
    "# Corrigir possíveis espaços nos nomes das colunas\n",
    "dataset[0, :] = np.char.strip(dataset[0, :])  # Remove espaços do cabeçalho\n",
    "\n",
    "# Exibir as colunas para verificar a estrutura\n",
    "print(\"Colunas:\", dataset[0, :])\n",
    "\n",
    "# Exibir a primeira linha para verificar os dados\n",
    "print(\"Primeira linha:\", dataset[1, :])\n",
    "\n",
    "# Identificar índice correto da coluna \"Cost\"\n",
    "cost_index = np.where(dataset[0, :] == 'Cost')[0][0]  # Identifica a coluna correta\n",
    "\n",
    "# Remover o cabeçalho do dataset para evitar problemas ao converter valores\n",
    "data = dataset[1:, :]\n",
    "\n",
    "# 1. Porcentagem de missões bem-sucedidas\n",
    "success_count = np.sum(data[:, 7] == 'Success')  # Contar \"Success\" na coluna 7\n",
    "total_missions = data.shape[0]  # Total de missões\n",
    "success_percentage = (success_count / total_missions) * 100\n",
    "print(f'Porcentagem de missões bem-sucedidas: {success_percentage:.2f}%')\n",
    "\n",
    "# 2. Média de gastos das missões com valores disponíveis (> 0)\n",
    "costs = data[:, cost_index]  # Selecionar a coluna correta de custos\n",
    "costs = np.char.strip(costs)  # Remover espaços em branco ao redor\n",
    "costs = np.char.replace(costs, ',', '')  # Remover vírgulas caso existam\n",
    "costs = np.where(costs == '', '0', costs)  # Substituir strings vazias por '0'\n",
    "costs = costs.astype(float)  # Converter para float\n",
    "valid_costs = costs[costs > 0]  # Filtrar valores positivos\n",
    "mean_cost = np.mean(valid_costs) if len(valid_costs) > 0 else 0\n",
    "print(f'Média dos custos das missões: {mean_cost:.2f}')\n",
    "\n",
    "# 3. Quantidade de missões realizadas pelos Estados Unidos\n",
    "usa_missions = np.sum(data[:, 2] == 'USA')\n",
    "print(f'Quantidade de missões realizadas pelos EUA: {usa_missions}')\n",
    "\n",
    "# 4. Missão mais cara realizada pela SpaceX\n",
    "spacex_index = np.where(dataset[0, :] == 'Company Name')[0][0]  # Identificar a coluna correta\n",
    "spacex_costs = costs[data[:, spacex_index] == 'SpaceX']  # Filtrar custos da SpaceX\n",
    "most_expensive = np.max(spacex_costs) if len(spacex_costs) > 0 else 0\n",
    "print(f'Missão mais cara realizada pela SpaceX: {most_expensive:.2f}')\n",
    "\n",
    "\n",
    "# 5. Nome das empresas e quantidade de missões realizadas\n",
    "unique_companies, mission_counts = np.unique(dataset[:, 1], return_counts=True)\n",
    "print('Quantidade de missões por empresa:')\n",
    "for company, count in zip(unique_companies, mission_counts):\n",
    "    print(f'{company}: {count}')\n"
   ]
  }
 ],
 "metadata": {
  "kernelspec": {
   "display_name": "Python 3",
   "language": "python",
   "name": "python3"
  },
  "language_info": {
   "codemirror_mode": {
    "name": "ipython",
    "version": 3
   },
   "file_extension": ".py",
   "mimetype": "text/x-python",
   "name": "python",
   "nbconvert_exporter": "python",
   "pygments_lexer": "ipython3",
   "version": "3.12.0"
  }
 },
 "nbformat": 4,
 "nbformat_minor": 2
}
