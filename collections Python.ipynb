{
 "cells": [
  {
   "cell_type": "markdown",
   "metadata": {},
   "source": [
    "# Collections - Exercises"
   ]
  },
  {
   "cell_type": "markdown",
   "metadata": {},
   "source": [
    "Exercise 1"
   ]
  },
  {
   "cell_type": "code",
   "execution_count": 8,
   "metadata": {},
   "outputs": [
    {
     "name": "stdout",
     "output_type": "stream",
     "text": [
      "Classificação top 3:  ['Atlético Mineiro', 'GALOOOOOO', 'Real Madrid']\n",
      "Os lanternas da competição:  ['Barcelona', 'FelpsTeam']\n",
      "Clubes participantes do campeonato:  ['Atlético Mineiro', 'Barcelona', 'FelpsTeam', 'GALOOOOOO', 'Real Madrid']\n",
      "Posição do Barcelona na classificação atual:  4\n"
     ]
    }
   ],
   "source": [
    "classificacaoBrasileirao = ['Atlético Mineiro', 'GALOOOOOO', 'Real Madrid', 'Barcelona', 'FelpsTeam'] \n",
    "\n",
    "print(\"Classificação top 3: \", classificacaoBrasileirao[:3])\n",
    "print(\"Os lanternas da competição: \", classificacaoBrasileirao[3:])\n",
    "print(\"Clubes participantes do campeonato: \", sorted(classificacaoBrasileirao)) \n",
    "print(\"Posição do Barcelona na classificação atual: \", classificacaoBrasileirao.index('Barcelona') + 1)"
   ]
  },
  {
   "cell_type": "markdown",
   "metadata": {},
   "source": [
    "Exercise 2 "
   ]
  },
  {
   "cell_type": "code",
   "execution_count": 2,
   "metadata": {},
   "outputs": [
    {
     "name": "stdout",
     "output_type": "stream",
     "text": [
      "1 - Cadastrar produto\n",
      "2 - Listar produtos\n",
      "3 - Listar produtos disponíveis nas duas lojas\n",
      "4 - Sair\n",
      "1 - Cadastrar produto\n",
      "2 - Listar produtos\n",
      "3 - Listar produtos disponíveis nas duas lojas\n",
      "4 - Sair\n",
      "1 - Cadastrar produto\n",
      "2 - Listar produtos\n",
      "3 - Listar produtos disponíveis nas duas lojas\n",
      "4 - Sair\n",
      "1 - Cadastrar produto\n",
      "2 - Listar produtos\n",
      "3 - Listar produtos disponíveis nas duas lojas\n",
      "4 - Sair\n",
      "Produtos da loja 1:  {'apple', 'sams'}\n",
      "Produtos da loja 2:  {'sams'}\n",
      "1 - Cadastrar produto\n",
      "2 - Listar produtos\n",
      "3 - Listar produtos disponíveis nas duas lojas\n",
      "4 - Sair\n",
      "Produtos disponíveis nas duas lojas:  {'sams'}\n",
      "1 - Cadastrar produto\n",
      "2 - Listar produtos\n",
      "3 - Listar produtos disponíveis nas duas lojas\n",
      "4 - Sair\n"
     ]
    }
   ],
   "source": [
    "loja1 = set()\n",
    "loja2 = set()\n",
    "\n",
    "while True:\n",
    "    print(\"1 - Cadastrar produto\")\n",
    "    print(\"2 - Listar produtos\")\n",
    "    print(\"3 - Listar produtos disponíveis nas duas lojas\")\n",
    "    print(\"4 - Sair\")\n",
    "    opcao = int(input(\"Digite a opção desejada: \"))\n",
    "\n",
    "    if opcao == 1:\n",
    "        produto = input(\"Digite o nome do produto: \")\n",
    "        loja = int(input(\"Digite a loja (1 ou 2): \"))\n",
    "        if loja == 1:\n",
    "            loja1.add(produto)\n",
    "        elif loja == 2:\n",
    "            loja2.add(produto)\n",
    "        else:\n",
    "            print(\"Loja inválida\")\n",
    "    elif opcao == 2:\n",
    "        print(\"Produtos da loja 1: \", loja1)\n",
    "        print(\"Produtos da loja 2: \", loja2)\n",
    "    elif opcao == 3:\n",
    "        match = loja1.intersection(loja2)\n",
    "        print(\"Produtos disponíveis nas duas lojas: \", match)\n",
    "    elif opcao == 4:\n",
    "        break\n",
    "    else:\n",
    "        print(\"Opção inválida\")"
   ]
  },
  {
   "cell_type": "markdown",
   "metadata": {},
   "source": [
    "Exercise 3"
   ]
  },
  {
   "cell_type": "code",
   "execution_count": 4,
   "metadata": {},
   "outputs": [
    {
     "name": "stdout",
     "output_type": "stream",
     "text": [
      "{'nome': 'felipe', 'media': 88.0, 'situacao': 'Aprovado'}\n"
     ]
    }
   ],
   "source": [
    "infoAluno = {'nome' : '', 'media' : ''}\n",
    "\n",
    "nome = input(\"Digite seu nome: \")\n",
    "media = float(input(\"Digite a média da sua nota: \"))\n",
    "\n",
    "if(media < 50):\n",
    "    situacaoFinal = 'Reprovado'\n",
    "else: \n",
    "    situacaoFinal = 'Aprovado'\n",
    "\n",
    "infoAluno['nome'] = nome\n",
    "infoAluno['media'] = media\n",
    "infoAluno['situacao'] = situacaoFinal\n",
    "\n",
    "print(infoAluno)"
   ]
  },
  {
   "cell_type": "markdown",
   "metadata": {},
   "source": [
    "Exercise 4"
   ]
  },
  {
   "cell_type": "code",
   "execution_count": 16,
   "metadata": {},
   "outputs": [
    {
     "name": "stdout",
     "output_type": "stream",
     "text": [
      "Pessoa com menor peso e seu respectivo peso:  {'nome': 'Arthur', 'peso': 43.0}\n",
      "Pessoa com maior peso e seu respectivo peso:  {'nome': 'pedro', 'peso': 110.0}\n"
     ]
    }
   ],
   "source": [
    "infoPacientes = []\n",
    "\n",
    "for i in range(3):\n",
    "    nome = input(\"Digite seu nome: \")\n",
    "    peso = float(input(\"Digite seu peso: \"))\n",
    "    infoPacientes.append({'nome' : nome, 'peso' : peso})\n",
    "\n",
    "#Encontrando a pessoa com menor peso\n",
    "menor_peso = min(infoPacientes, key=lambda x: x['peso'])\n",
    "print(\"Pessoa com menor peso e seu respectivo peso: \", menor_peso)\n",
    "\n",
    "#Encontrando a pessoa com maior peso\n",
    "maior_peso = max(infoPacientes, key=lambda x: x[ 'peso'])\t\n",
    "print(\"Pessoa com maior peso e seu respectivo peso: \", maior_peso)\n",
    "\n",
    "\n",
    "# Na real que um dicionário não é a melhor estrutura de dados para resolver essa questao,\n",
    "# a gente nao consegue armazenar mais de uma pessoa. Toda vez que a gente for \"adicionar\" uma pessoa,\n",
    "# a gente vai acabar sobrescrevendo a pessoa anterior.\n",
    "# podemos usar uma lista de dicionários, onde cada dicionário representa uma pessoa.   "
   ]
  },
  {
   "cell_type": "markdown",
   "metadata": {},
   "source": [
    "Exercise 5"
   ]
  },
  {
   "cell_type": "code",
   "execution_count": 24,
   "metadata": {},
   "outputs": [
    {
     "name": "stdout",
     "output_type": "stream",
     "text": [
      "1 - Cadastrar pessoa\n",
      "2 - Sair\n",
      "1 - Cadastrar pessoa\n",
      "2 - Sair\n",
      "1 - Cadastrar pessoa\n",
      "2 - Sair\n",
      "1 - Cadastrar pessoa\n",
      "2 - Sair\n",
      "1 - Cadastrar pessoa\n",
      "2 - Sair\n",
      "1 - Cadastrar pessoa\n",
      "2 - Sair\n",
      "Média de idades:  17.6\n",
      "Número de mulheres com menos de 20 anos:  2\n"
     ]
    }
   ],
   "source": [
    "infoPessoas = []\n",
    "num_pessoas = 0\n",
    "idades_somadas = 0\n",
    "aux = 0\n",
    "\n",
    "while True:\n",
    "    print(\"1 - Cadastrar pessoa\")\n",
    "    print(\"2 - Sair\")\n",
    "\n",
    "    opcao = int(input(\"Digite a opção desejada: \"))\n",
    "    if opcao == 1:\n",
    "        nome = input(\"Digite o nome: \")\n",
    "        idade = int(input(\"Digite a idade: \"))\n",
    "        idades_somadas += idade\n",
    "        sexo = input(\"Digite o sexo[F - Feminino, M - Masculino]:\")\n",
    "        infoPessoas.append({'nome' : nome, 'idade' : idade, 'sexo' : sexo})\n",
    "        if(idade < 20 and sexo == 'F'):\n",
    "            aux += 1\n",
    "        num_pessoas += 1\n",
    "    elif opcao == 2:\n",
    "        break\n",
    "    else:\n",
    "        print(\"Opção inválida\")\n",
    "\n",
    "media_idades = idades_somadas / num_pessoas\n",
    "print(\"Média de idades: \", media_idades)\n",
    "print(\"Número de mulheres com menos de 20 anos: \", aux)\n"
   ]
  }
 ],
 "metadata": {
  "kernelspec": {
   "display_name": "Python 3",
   "language": "python",
   "name": "python3"
  },
  "language_info": {
   "codemirror_mode": {
    "name": "ipython",
    "version": 3
   },
   "file_extension": ".py",
   "mimetype": "text/x-python",
   "name": "python",
   "nbconvert_exporter": "python",
   "pygments_lexer": "ipython3",
   "version": "3.12.0"
  }
 },
 "nbformat": 4,
 "nbformat_minor": 2
}
